{
  "nbformat": 4,
  "nbformat_minor": 0,
  "metadata": {
    "colab": {
      "name": "MLBasedSteganalysisSVM.ipynb",
      "provenance": [],
      "authorship_tag": "ABX9TyMzd9VGXX/R9AWmgSDzqmxh",
      "include_colab_link": true
    },
    "kernelspec": {
      "name": "python3",
      "display_name": "Python 3"
    },
    "language_info": {
      "name": "python"
    },
    "accelerator": "GPU"
  },
  "cells": [
    {
      "cell_type": "markdown",
      "metadata": {
        "id": "view-in-github",
        "colab_type": "text"
      },
      "source": [
        "<a href=\"https://colab.research.google.com/github/mervenurerdogan/MLBasedSteganalysis/blob/main/MLBasedSteganalysisSVM.ipynb\" target=\"_parent\"><img src=\"https://colab.research.google.com/assets/colab-badge.svg\" alt=\"Open In Colab\"/></a>"
      ]
    },
    {
      "cell_type": "code",
      "metadata": {
        "colab": {
          "base_uri": "https://localhost:8080/"
        },
        "id": "b5Efo5GYmZNC",
        "outputId": "d68c4507-f478-40df-bf08-cea558bbb332"
      },
      "source": [
        "from google.colab import drive \n",
        "drive.mount('/content/drive')"
      ],
      "execution_count": 1,
      "outputs": [
        {
          "output_type": "stream",
          "text": [
            "Drive already mounted at /content/drive; to attempt to forcibly remount, call drive.mount(\"/content/drive\", force_remount=True).\n"
          ],
          "name": "stdout"
        }
      ]
    },
    {
      "cell_type": "code",
      "metadata": {
        "id": "fpK-ICRGmjDp"
      },
      "source": [
        "bossbase_features_path = \"/content/drive/MyDrive/Veri/bossbase.fea\" #BOSS veriseti\n",
        "bossbase_lsb_features_path = \"/content/drive/MyDrive/Veri/bossbase_lsb.fea\" #LSB dataseti\n",
        "features_with_labels = [(bossbase_features_path, 0), (bossbase_lsb_features_path, 1)]"
      ],
      "execution_count": 2,
      "outputs": []
    },
    {
      "cell_type": "code",
      "metadata": {
        "id": "eGax8H2smpuG"
      },
      "source": [
        "X = []\n",
        "y = []\n",
        "for feature_path, label in features_with_labels:\n",
        "    with open(feature_path, \"r\") as f:\n",
        "        for line in f:\n",
        "            fv = line.split()\n",
        "            X.append(fv) #split ettimiz datada fv dekileri X dizisine append ile ekle\n",
        "            y.append(label) #labelları da y dizisine ekle"
      ],
      "execution_count": 3,
      "outputs": []
    },
    {
      "cell_type": "code",
      "metadata": {
        "id": "77RPINqlmswk"
      },
      "source": [
        "from sklearn.model_selection import train_test_split\n",
        "\n",
        "X_train, X_test, y_train, y_test = train_test_split(\n",
        "    X, y, test_size=0.2, random_state=11\n",
        ")"
      ],
      "execution_count": 4,
      "outputs": []
    },
    {
      "cell_type": "code",
      "metadata": {
        "id": "aarNM-I1mx-q"
      },
      "source": [
        "from sklearn.svm import SVC\n"
      ],
      "execution_count": 5,
      "outputs": []
    },
    {
      "cell_type": "code",
      "metadata": {
        "colab": {
          "base_uri": "https://localhost:8080/"
        },
        "id": "EEqVE1HBmzD0",
        "outputId": "46ade37e-a367-4b24-a894-c1021ef091a4"
      },
      "source": [
        "svc=SVC(kernel=\"linear\",C=1)\n",
        "svc.fit(X_train,y_train)"
      ],
      "execution_count": 6,
      "outputs": [
        {
          "output_type": "execute_result",
          "data": {
            "text/plain": [
              "SVC(C=1, break_ties=False, cache_size=200, class_weight=None, coef0=0.0,\n",
              "    decision_function_shape='ovr', degree=3, gamma='scale', kernel='linear',\n",
              "    max_iter=-1, probability=False, random_state=None, shrinking=True,\n",
              "    tol=0.001, verbose=False)"
            ]
          },
          "metadata": {
            "tags": []
          },
          "execution_count": 6
        }
      ]
    },
    {
      "cell_type": "code",
      "metadata": {
        "id": "_VUqv2rSnKEE"
      },
      "source": [
        "from sklearn.metrics import accuracy_score"
      ],
      "execution_count": 7,
      "outputs": []
    },
    {
      "cell_type": "code",
      "metadata": {
        "id": "XdiS3EKroOr3"
      },
      "source": [
        "y_pred=svc.predict(X_test)"
      ],
      "execution_count": 8,
      "outputs": []
    },
    {
      "cell_type": "code",
      "metadata": {
        "id": "of9rzlBMDg2c"
      },
      "source": [
        "accuracy=accuracy_score(y_test,y_pred)"
      ],
      "execution_count": 9,
      "outputs": []
    },
    {
      "cell_type": "code",
      "metadata": {
        "colab": {
          "base_uri": "https://localhost:8080/"
        },
        "id": "K5kV7QgtnSZs",
        "outputId": "a00ebd70-b236-4597-8977-fcb841baa73c"
      },
      "source": [
        "print(\"Accuracy=>\",accuracy)"
      ],
      "execution_count": 10,
      "outputs": [
        {
          "output_type": "stream",
          "text": [
            "Accuracy=> 0.925\n"
          ],
          "name": "stdout"
        }
      ]
    }
  ]
}