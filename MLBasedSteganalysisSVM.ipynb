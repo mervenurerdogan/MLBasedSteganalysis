{
  "nbformat": 4,
  "nbformat_minor": 0,
  "metadata": {
    "colab": {
      "name": "MLBasedSteganalysisSVM.ipynb",
      "provenance": [],
      "authorship_tag": "ABX9TyO8PoH8zncOiGtN0eMn0uqa",
      "include_colab_link": true
    },
    "kernelspec": {
      "name": "python3",
      "display_name": "Python 3"
    },
    "language_info": {
      "name": "python"
    },
    "accelerator": "GPU"
  },
  "cells": [
    {
      "cell_type": "markdown",
      "metadata": {
        "id": "view-in-github",
        "colab_type": "text"
      },
      "source": [
        "<a href=\"https://colab.research.google.com/github/mervenurerdogan/MLBasedSteganalysis/blob/main/MLBasedSteganalysisSVM.ipynb\" target=\"_parent\"><img src=\"https://colab.research.google.com/assets/colab-badge.svg\" alt=\"Open In Colab\"/></a>"
      ]
    },
    {
      "cell_type": "code",
      "metadata": {
        "colab": {
          "base_uri": "https://localhost:8080/"
        },
        "id": "b5Efo5GYmZNC",
        "outputId": "858c534d-e11d-414a-ff6b-a3adb7060aa0"
      },
      "source": [
        "from google.colab import drive \n",
        "drive.mount('/content/drive')"
      ],
      "execution_count": 1,
      "outputs": [
        {
          "output_type": "stream",
          "text": [
            "Drive already mounted at /content/drive; to attempt to forcibly remount, call drive.mount(\"/content/drive\", force_remount=True).\n"
          ],
          "name": "stdout"
        }
      ]
    },
    {
      "cell_type": "code",
      "metadata": {
        "id": "fpK-ICRGmjDp"
      },
      "source": [
        "bossbase_features_path = \"/content/drive/MyDrive/Veri/bossbase.fea\" #BOSS veriseti\n",
        "bossbase_lsb_features_path = \"/content/drive/MyDrive/Veri/bossbase_lsb.fea\" #LSB dataseti\n",
        "features_with_labels = [(bossbase_features_path, 0), (bossbase_lsb_features_path, 1)]"
      ],
      "execution_count": 2,
      "outputs": []
    },
    {
      "cell_type": "code",
      "metadata": {
        "id": "eGax8H2smpuG"
      },
      "source": [
        "X = []\n",
        "y = []\n",
        "for feature_path, label in features_with_labels:\n",
        "    with open(feature_path, \"r\") as f:\n",
        "        for line in f:\n",
        "            fv = line.split()\n",
        "            X.append(fv) #split ettimiz datada fv dekileri X dizisine append ile ekle\n",
        "            y.append(label) #labelları da y dizisine ekle"
      ],
      "execution_count": 3,
      "outputs": []
    },
    {
      "cell_type": "code",
      "metadata": {
        "id": "77RPINqlmswk"
      },
      "source": [
        "from sklearn.model_selection import train_test_split\n",
        "\n",
        "X_train, X_test, y_train, y_test = train_test_split(\n",
        "    X, y, test_size=0.2, random_state=11\n",
        ")"
      ],
      "execution_count": 4,
      "outputs": []
    },
    {
      "cell_type": "code",
      "metadata": {
        "id": "aarNM-I1mx-q"
      },
      "source": [
        "from sklearn.svm import SVC\n"
      ],
      "execution_count": 5,
      "outputs": []
    },
    {
      "cell_type": "code",
      "metadata": {
        "colab": {
          "base_uri": "https://localhost:8080/"
        },
        "id": "EEqVE1HBmzD0",
        "outputId": "0f03973c-b5b6-42f1-f0ec-4e35039c29b6"
      },
      "source": [
        "svc=SVC(kernel=\"linear\",C=1)\n",
        "svc.fit(X_train,y_train)"
      ],
      "execution_count": 6,
      "outputs": [
        {
          "output_type": "execute_result",
          "data": {
            "text/plain": [
              "SVC(C=1, break_ties=False, cache_size=200, class_weight=None, coef0=0.0,\n",
              "    decision_function_shape='ovr', degree=3, gamma='scale', kernel='linear',\n",
              "    max_iter=-1, probability=False, random_state=None, shrinking=True,\n",
              "    tol=0.001, verbose=False)"
            ]
          },
          "metadata": {
            "tags": []
          },
          "execution_count": 6
        }
      ]
    },
    {
      "cell_type": "code",
      "metadata": {
        "id": "_VUqv2rSnKEE"
      },
      "source": [
        "from sklearn.metrics import accuracy_score"
      ],
      "execution_count": 7,
      "outputs": []
    },
    {
      "cell_type": "code",
      "metadata": {
        "id": "XdiS3EKroOr3"
      },
      "source": [
        "y_pred=svc.predict(X_test)"
      ],
      "execution_count": 8,
      "outputs": []
    },
    {
      "cell_type": "code",
      "metadata": {
        "id": "of9rzlBMDg2c"
      },
      "source": [
        "accuracy=accuracy_score(y_test,y_pred)"
      ],
      "execution_count": 9,
      "outputs": []
    },
    {
      "cell_type": "code",
      "metadata": {
        "colab": {
          "base_uri": "https://localhost:8080/"
        },
        "id": "K5kV7QgtnSZs",
        "outputId": "5231330e-3a56-4c76-9d4d-945d0b02f78f"
      },
      "source": [
        "print(\"Accuracy=>\",accuracy)"
      ],
      "execution_count": 10,
      "outputs": [
        {
          "output_type": "stream",
          "text": [
            "Accuracy=> 0.925\n"
          ],
          "name": "stdout"
        }
      ]
    },
    {
      "cell_type": "code",
      "metadata": {
        "id": "9dNgYtB6FC6V",
        "colab": {
          "base_uri": "https://localhost:8080/"
        },
        "outputId": "946e1b12-bddc-41f1-ee39-b1dbbe3cc857"
      },
      "source": [
        "from sklearn.metrics import confusion_matrix\n",
        "confusion_matrix(y_test, y_pred)"
      ],
      "execution_count": 11,
      "outputs": [
        {
          "output_type": "execute_result",
          "data": {
            "text/plain": [
              "array([[23,  3],\n",
              "       [ 0, 14]])"
            ]
          },
          "metadata": {
            "tags": []
          },
          "execution_count": 11
        }
      ]
    },
    {
      "cell_type": "code",
      "metadata": {
        "id": "CGKf5pxAFwEQ"
      },
      "source": [
        "from sklearn.metrics import precision_score, recall_score,f1_score"
      ],
      "execution_count": 12,
      "outputs": []
    },
    {
      "cell_type": "code",
      "metadata": {
        "colab": {
          "base_uri": "https://localhost:8080/"
        },
        "id": "UBDUbYgjFwko",
        "outputId": "49018fe4-b9a9-4e40-cc75-568a81804444"
      },
      "source": [
        "precision=precision_score(y_test, y_pred)\n",
        "print(\"Precision=>\",precision)\n"
      ],
      "execution_count": 13,
      "outputs": [
        {
          "output_type": "stream",
          "text": [
            "Precision=> 0.8235294117647058\n"
          ],
          "name": "stdout"
        }
      ]
    },
    {
      "cell_type": "code",
      "metadata": {
        "colab": {
          "base_uri": "https://localhost:8080/"
        },
        "id": "egO2e_1_FyCH",
        "outputId": "1758880b-8f19-4196-ddfd-4e4bae6188d3"
      },
      "source": [
        "recall=recall_score(y_test, y_pred)\n",
        "print(\"Recall=>\",recall)"
      ],
      "execution_count": 14,
      "outputs": [
        {
          "output_type": "stream",
          "text": [
            "Recall=> 1.0\n"
          ],
          "name": "stdout"
        }
      ]
    },
    {
      "cell_type": "code",
      "metadata": {
        "colab": {
          "base_uri": "https://localhost:8080/"
        },
        "id": "P1BCVYtxF0Dk",
        "outputId": "c55fb383-9342-4ec6-b940-aecf3fe714d4"
      },
      "source": [
        "f1score=f1_score(y_test, y_pred)\n",
        "print(\"F1_Score=>\",f1score)"
      ],
      "execution_count": 15,
      "outputs": [
        {
          "output_type": "stream",
          "text": [
            "F1_Score=> 0.9032258064516129\n"
          ],
          "name": "stdout"
        }
      ]
    }
  ]
}