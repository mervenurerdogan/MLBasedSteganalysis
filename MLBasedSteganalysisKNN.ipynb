{
  "nbformat": 4,
  "nbformat_minor": 0,
  "metadata": {
    "colab": {
      "name": "MLBasedSteganalysisKNN.ipynb",
      "provenance": [],
      "authorship_tag": "ABX9TyNvvls8aIqvOzq6gsp8q/Sl",
      "include_colab_link": true
    },
    "kernelspec": {
      "name": "python3",
      "display_name": "Python 3"
    },
    "language_info": {
      "name": "python"
    },
    "accelerator": "GPU"
  },
  "cells": [
    {
      "cell_type": "markdown",
      "metadata": {
        "id": "view-in-github",
        "colab_type": "text"
      },
      "source": [
        "<a href=\"https://colab.research.google.com/github/mervenurerdogan/MLBasedSteganalysis/blob/main/MLBasedSteganalysisKNN.ipynb\" target=\"_parent\"><img src=\"https://colab.research.google.com/assets/colab-badge.svg\" alt=\"Open In Colab\"/></a>"
      ]
    },
    {
      "cell_type": "code",
      "metadata": {
        "colab": {
          "base_uri": "https://localhost:8080/"
        },
        "id": "k2Qyr-6sKGfF",
        "outputId": "2c600d02-671d-44db-faea-f13d9620207d"
      },
      "source": [
        "from google.colab import drive \n",
        "drive.mount('/content/drive')"
      ],
      "execution_count": 1,
      "outputs": [
        {
          "output_type": "stream",
          "text": [
            "Mounted at /content/drive\n"
          ],
          "name": "stdout"
        }
      ]
    },
    {
      "cell_type": "code",
      "metadata": {
        "id": "croiCmWPKYZb"
      },
      "source": [
        "bossbase_features_path = \"/content/drive/MyDrive/Veri/bossbase.fea\" #BOSS veriseti\n",
        "bossbase_lsb_features_path = \"/content/drive/MyDrive/Veri/bossbase_lsb.fea\" #LSB dataseti\n",
        "features_with_labels = [(bossbase_features_path, 0), (bossbase_lsb_features_path, 1)]"
      ],
      "execution_count": 2,
      "outputs": []
    },
    {
      "cell_type": "code",
      "metadata": {
        "id": "62jeup2_KZx8"
      },
      "source": [
        "X = []\n",
        "y = []\n",
        "for feature_path, label in features_with_labels:\n",
        "    with open(feature_path, \"r\") as f:\n",
        "        for line in f:\n",
        "            fv = line.split()\n",
        "            X.append(fv) \n",
        "            y.append(label) "
      ],
      "execution_count": 3,
      "outputs": []
    },
    {
      "cell_type": "code",
      "metadata": {
        "id": "du1gH_yXKbPb"
      },
      "source": [
        "from sklearn.model_selection import train_test_split\n",
        "\n",
        "X_train, X_test, y_train, y_test = train_test_split(\n",
        "    X, y, test_size=0.2, random_state=11\n",
        ")"
      ],
      "execution_count": 4,
      "outputs": []
    },
    {
      "cell_type": "code",
      "metadata": {
        "colab": {
          "base_uri": "https://localhost:8080/"
        },
        "id": "UrQjok3kKdJM",
        "outputId": "0be9835e-fd6b-4b67-cd85-882b507c947c"
      },
      "source": [
        "from sklearn.neighbors import KNeighborsClassifier\n",
        "knnclf=KNeighborsClassifier(n_neighbors=10)\n",
        "knnclf.fit(X_train,y_train)"
      ],
      "execution_count": 5,
      "outputs": [
        {
          "output_type": "stream",
          "text": [
            "/usr/local/lib/python3.7/dist-packages/sklearn/utils/validation.py:755: FutureWarning: Beginning in version 0.22, arrays of bytes/strings will be converted to decimal numbers if dtype='numeric'. It is recommended that you convert the array to a float dtype before using it in scikit-learn, for example by using your_array = your_array.astype(np.float64).\n",
            "  estimator=estimator)\n",
            "/usr/local/lib/python3.7/dist-packages/sklearn/neighbors/_base.py:400: FutureWarning: Beginning in version 0.22, arrays of bytes/strings will be converted to decimal numbers if dtype='numeric'. It is recommended that you convert the array to a float dtype before using it in scikit-learn, for example by using your_array = your_array.astype(np.float64).\n",
            "  X = check_array(X, accept_sparse='csr')\n"
          ],
          "name": "stderr"
        },
        {
          "output_type": "execute_result",
          "data": {
            "text/plain": [
              "KNeighborsClassifier(algorithm='auto', leaf_size=30, metric='minkowski',\n",
              "                     metric_params=None, n_jobs=None, n_neighbors=10, p=2,\n",
              "                     weights='uniform')"
            ]
          },
          "metadata": {
            "tags": []
          },
          "execution_count": 5
        }
      ]
    },
    {
      "cell_type": "code",
      "metadata": {
        "id": "ohI-twBFKmXa"
      },
      "source": [
        "from sklearn.metrics import accuracy_score"
      ],
      "execution_count": 6,
      "outputs": []
    },
    {
      "cell_type": "code",
      "metadata": {
        "colab": {
          "base_uri": "https://localhost:8080/"
        },
        "id": "4bPcbjxIKpzy",
        "outputId": "9aa70b36-fc78-4ef7-fe6a-701b59ad8917"
      },
      "source": [
        "y_pred=knnclf.predict(X_test)"
      ],
      "execution_count": 7,
      "outputs": [
        {
          "output_type": "stream",
          "text": [
            "/usr/local/lib/python3.7/dist-packages/sklearn/neighbors/_classification.py:171: FutureWarning: Beginning in version 0.22, arrays of bytes/strings will be converted to decimal numbers if dtype='numeric'. It is recommended that you convert the array to a float dtype before using it in scikit-learn, for example by using your_array = your_array.astype(np.float64).\n",
            "  X = check_array(X, accept_sparse='csr')\n",
            "/usr/local/lib/python3.7/dist-packages/sklearn/neighbors/_base.py:605: FutureWarning: Beginning in version 0.22, arrays of bytes/strings will be converted to decimal numbers if dtype='numeric'. It is recommended that you convert the array to a float dtype before using it in scikit-learn, for example by using your_array = your_array.astype(np.float64).\n",
            "  X = check_array(X, accept_sparse='csr')\n"
          ],
          "name": "stderr"
        }
      ]
    },
    {
      "cell_type": "code",
      "metadata": {
        "id": "fKwSVPCLKqbK"
      },
      "source": [
        "accuracy=accuracy_score(y_test,y_pred)"
      ],
      "execution_count": 8,
      "outputs": []
    },
    {
      "cell_type": "code",
      "metadata": {
        "colab": {
          "base_uri": "https://localhost:8080/"
        },
        "id": "6b2zYRKOKqyL",
        "outputId": "08cf60fa-38b9-4fa8-8373-6ce3c5514879"
      },
      "source": [
        "\n",
        "print(\"Accuracy=>\",accuracy)"
      ],
      "execution_count": 9,
      "outputs": [
        {
          "output_type": "stream",
          "text": [
            "Accuracy=> 0.8\n"
          ],
          "name": "stdout"
        }
      ]
    },
    {
      "cell_type": "code",
      "metadata": {
        "colab": {
          "base_uri": "https://localhost:8080/"
        },
        "id": "iHHb2IeeKrC0",
        "outputId": "30bd345d-b10d-4f57-f985-956f3c6b7b89"
      },
      "source": [
        "\n",
        "from sklearn.metrics import confusion_matrix\n",
        "confusion_matrix(y_test, y_pred)"
      ],
      "execution_count": 10,
      "outputs": [
        {
          "output_type": "execute_result",
          "data": {
            "text/plain": [
              "array([[18,  8],\n",
              "       [ 0, 14]])"
            ]
          },
          "metadata": {
            "tags": []
          },
          "execution_count": 10
        }
      ]
    },
    {
      "cell_type": "code",
      "metadata": {
        "id": "SRmBwRXLKrUE"
      },
      "source": [
        "from sklearn.metrics import precision_score, recall_score,f1_score"
      ],
      "execution_count": 11,
      "outputs": []
    },
    {
      "cell_type": "code",
      "metadata": {
        "colab": {
          "base_uri": "https://localhost:8080/"
        },
        "id": "G_HyEW86KrqY",
        "outputId": "7758e49c-f6d6-4363-cca2-e0f791677c20"
      },
      "source": [
        "precision=precision_score(y_test, y_pred)\n",
        "print(\"Precision=>\",precision)"
      ],
      "execution_count": 12,
      "outputs": [
        {
          "output_type": "stream",
          "text": [
            "Precision=> 0.6363636363636364\n"
          ],
          "name": "stdout"
        }
      ]
    },
    {
      "cell_type": "code",
      "metadata": {
        "colab": {
          "base_uri": "https://localhost:8080/"
        },
        "id": "MP0XKBQ1K62x",
        "outputId": "eb42a27a-11f6-4751-c567-e15f1e536ed2"
      },
      "source": [
        "recall=recall_score(y_test, y_pred)\n",
        "print(\"Recall=>\",recall)"
      ],
      "execution_count": 13,
      "outputs": [
        {
          "output_type": "stream",
          "text": [
            "Recall=> 1.0\n"
          ],
          "name": "stdout"
        }
      ]
    },
    {
      "cell_type": "code",
      "metadata": {
        "colab": {
          "base_uri": "https://localhost:8080/"
        },
        "id": "I_2R2-YAK6uH",
        "outputId": "a0a5d5d9-dcbf-4f15-d30a-0b40119ee227"
      },
      "source": [
        "f1score=f1_score(y_test, y_pred)\n",
        "print(\"F1_Score=>\",f1score)"
      ],
      "execution_count": 14,
      "outputs": [
        {
          "output_type": "stream",
          "text": [
            "F1_Score=> 0.7777777777777778\n"
          ],
          "name": "stdout"
        }
      ]
    }
  ]
}