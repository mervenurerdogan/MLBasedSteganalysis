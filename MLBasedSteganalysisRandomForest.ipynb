{
  "nbformat": 4,
  "nbformat_minor": 0,
  "metadata": {
    "colab": {
      "name": "MLBasedSteganalysisRandomForest.ipynb",
      "provenance": [],
      "authorship_tag": "ABX9TyOzwvrdJNNGt8pYlwnUdD6I",
      "include_colab_link": true
    },
    "kernelspec": {
      "name": "python3",
      "display_name": "Python 3"
    },
    "language_info": {
      "name": "python"
    },
    "accelerator": "GPU"
  },
  "cells": [
    {
      "cell_type": "markdown",
      "metadata": {
        "id": "view-in-github",
        "colab_type": "text"
      },
      "source": [
        "<a href=\"https://colab.research.google.com/github/mervenurerdogan/MLBasedSteganalysis/blob/main/MLBasedSteganalysisRandomForest.ipynb\" target=\"_parent\"><img src=\"https://colab.research.google.com/assets/colab-badge.svg\" alt=\"Open In Colab\"/></a>"
      ]
    },
    {
      "cell_type": "code",
      "metadata": {
        "colab": {
          "base_uri": "https://localhost:8080/"
        },
        "id": "mtGQaBZDIPlV",
        "outputId": "6f6e3c02-371a-4323-ebbd-edb7563863bf"
      },
      "source": [
        "from google.colab import drive \n",
        "drive.mount('/content/drive')"
      ],
      "execution_count": 1,
      "outputs": [
        {
          "output_type": "stream",
          "text": [
            "Drive already mounted at /content/drive; to attempt to forcibly remount, call drive.mount(\"/content/drive\", force_remount=True).\n"
          ],
          "name": "stdout"
        }
      ]
    },
    {
      "cell_type": "code",
      "metadata": {
        "id": "Lk5ySKr_Ids4"
      },
      "source": [
        "bossbase_features_path = \"/content/drive/MyDrive/Veri/bossbase.fea\" #BOSS veriseti\n",
        "bossbase_lsb_features_path = \"/content/drive/MyDrive/Veri/bossbase_lsb.fea\" #LSB dataseti\n",
        "features_with_labels = [(bossbase_features_path, 0), (bossbase_lsb_features_path, 1)]"
      ],
      "execution_count": 2,
      "outputs": []
    },
    {
      "cell_type": "code",
      "metadata": {
        "id": "8oCDUzPiIfPb"
      },
      "source": [
        "X = []\n",
        "y = []\n",
        "for feature_path, label in features_with_labels:\n",
        "    with open(feature_path, \"r\") as f:\n",
        "        for line in f:\n",
        "            fv = line.split()\n",
        "            X.append(fv) \n",
        "            y.append(label) "
      ],
      "execution_count": 3,
      "outputs": []
    },
    {
      "cell_type": "code",
      "metadata": {
        "id": "g0OeCgSUIifO"
      },
      "source": [
        "from sklearn.model_selection import train_test_split\n",
        "\n",
        "X_train, X_test, y_train, y_test = train_test_split(\n",
        "    X, y, test_size=0.2, random_state=11\n",
        ")"
      ],
      "execution_count": 4,
      "outputs": []
    },
    {
      "cell_type": "code",
      "metadata": {
        "id": "XdpicN-1Igye"
      },
      "source": [
        "from sklearn.ensemble import RandomForestClassifier\n",
        "\n",
        "rndclf = RandomForestClassifier()\n",
        "rndclf = rndclf.fit(X_train, y_train)"
      ],
      "execution_count": 5,
      "outputs": []
    },
    {
      "cell_type": "code",
      "metadata": {
        "id": "EA1GlDRRIml_"
      },
      "source": [
        "from sklearn.metrics import accuracy_score"
      ],
      "execution_count": 6,
      "outputs": []
    },
    {
      "cell_type": "code",
      "metadata": {
        "id": "1XBg9ZDZIqje"
      },
      "source": [
        "y_pred=rndclf.predict(X_test)"
      ],
      "execution_count": 7,
      "outputs": []
    },
    {
      "cell_type": "code",
      "metadata": {
        "id": "eeewmsnIIs-r"
      },
      "source": [
        "accuracy=accuracy_score(y_test,y_pred)"
      ],
      "execution_count": 8,
      "outputs": []
    },
    {
      "cell_type": "code",
      "metadata": {
        "colab": {
          "base_uri": "https://localhost:8080/"
        },
        "id": "AqGHp7ldIu-7",
        "outputId": "50b21238-28a0-4217-8261-f3179ac9259a"
      },
      "source": [
        "\n",
        "print(\"Accuracy=>\",accuracy)"
      ],
      "execution_count": 9,
      "outputs": [
        {
          "output_type": "stream",
          "text": [
            "Accuracy=> 0.825\n"
          ],
          "name": "stdout"
        }
      ]
    },
    {
      "cell_type": "code",
      "metadata": {
        "colab": {
          "base_uri": "https://localhost:8080/"
        },
        "id": "dNPJ9m9YIxxQ",
        "outputId": "ae48cf67-4722-4768-dfc4-42525659d5e5"
      },
      "source": [
        "\n",
        "from sklearn.metrics import confusion_matrix\n",
        "confusion_matrix(y_test, y_pred)"
      ],
      "execution_count": 10,
      "outputs": [
        {
          "output_type": "execute_result",
          "data": {
            "text/plain": [
              "array([[23,  3],\n",
              "       [ 4, 10]])"
            ]
          },
          "metadata": {
            "tags": []
          },
          "execution_count": 10
        }
      ]
    },
    {
      "cell_type": "code",
      "metadata": {
        "id": "__2_HzKwIzrF"
      },
      "source": [
        "from sklearn.metrics import precision_score, recall_score,f1_score"
      ],
      "execution_count": 11,
      "outputs": []
    },
    {
      "cell_type": "code",
      "metadata": {
        "colab": {
          "base_uri": "https://localhost:8080/"
        },
        "id": "bOb--pGeI1_d",
        "outputId": "026e5096-db9c-4d60-c14d-32af4a147f4e"
      },
      "source": [
        "precision=precision_score(y_test, y_pred)\n",
        "print(\"Precision=>\",precision)"
      ],
      "execution_count": 12,
      "outputs": [
        {
          "output_type": "stream",
          "text": [
            "Precision=> 0.7692307692307693\n"
          ],
          "name": "stdout"
        }
      ]
    },
    {
      "cell_type": "code",
      "metadata": {
        "colab": {
          "base_uri": "https://localhost:8080/"
        },
        "id": "pCC3zZd-I3xt",
        "outputId": "42e09cfb-aca9-42d4-b721-b3c4b712d266"
      },
      "source": [
        "recall=recall_score(y_test, y_pred)\n",
        "print(\"Recall=>\",recall)"
      ],
      "execution_count": 13,
      "outputs": [
        {
          "output_type": "stream",
          "text": [
            "Recall=> 0.7142857142857143\n"
          ],
          "name": "stdout"
        }
      ]
    },
    {
      "cell_type": "code",
      "metadata": {
        "colab": {
          "base_uri": "https://localhost:8080/"
        },
        "id": "h46TmVNjI6ad",
        "outputId": "a96511e9-2d06-4c9d-9c96-3753909deb7c"
      },
      "source": [
        "f1score=f1_score(y_test, y_pred)\n",
        "print(\"F1_Score=>\",f1score)"
      ],
      "execution_count": 14,
      "outputs": [
        {
          "output_type": "stream",
          "text": [
            "F1_Score=> 0.7407407407407408\n"
          ],
          "name": "stdout"
        }
      ]
    }
  ]
}