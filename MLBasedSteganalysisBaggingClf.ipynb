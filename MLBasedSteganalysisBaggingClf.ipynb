{
  "nbformat": 4,
  "nbformat_minor": 0,
  "metadata": {
    "colab": {
      "name": "MLBasedSteganalysisBaggingClf.ipynb",
      "provenance": [],
      "authorship_tag": "ABX9TyNnUJJ73TS6KBVp0v5v63r8",
      "include_colab_link": true
    },
    "kernelspec": {
      "name": "python3",
      "display_name": "Python 3"
    },
    "language_info": {
      "name": "python"
    },
    "accelerator": "GPU"
  },
  "cells": [
    {
      "cell_type": "markdown",
      "metadata": {
        "id": "view-in-github",
        "colab_type": "text"
      },
      "source": [
        "<a href=\"https://colab.research.google.com/github/mervenurerdogan/MLBasedSteganalysis/blob/main/MLBasedSteganalysisBaggingClf.ipynb\" target=\"_parent\"><img src=\"https://colab.research.google.com/assets/colab-badge.svg\" alt=\"Open In Colab\"/></a>"
      ]
    },
    {
      "cell_type": "code",
      "metadata": {
        "colab": {
          "base_uri": "https://localhost:8080/"
        },
        "id": "ObY4HmVNRT55",
        "outputId": "ff3eeed9-2143-42f6-da7b-c54047bf3775"
      },
      "source": [
        "from google.colab import drive \n",
        "drive.mount('/content/drive')"
      ],
      "execution_count": 1,
      "outputs": [
        {
          "output_type": "stream",
          "text": [
            "Drive already mounted at /content/drive; to attempt to forcibly remount, call drive.mount(\"/content/drive\", force_remount=True).\n"
          ],
          "name": "stdout"
        }
      ]
    },
    {
      "cell_type": "code",
      "metadata": {
        "id": "4NSptlPWRlmC"
      },
      "source": [
        "bossbase_features_path = \"/content/drive/MyDrive/Veri/bossbase.fea\" #BOSS veriseti\n",
        "bossbase_lsb_features_path = \"/content/drive/MyDrive/Veri/bossbase_lsb.fea\" #LSB dataseti\n",
        "features_with_labels = [(bossbase_features_path, 0), (bossbase_lsb_features_path, 1)]"
      ],
      "execution_count": 2,
      "outputs": []
    },
    {
      "cell_type": "code",
      "metadata": {
        "id": "CJBd6PFVRoaA"
      },
      "source": [
        "X = []\n",
        "y = []\n",
        "for feature_path, label in features_with_labels:\n",
        "    with open(feature_path, \"r\") as f:\n",
        "        for line in f:\n",
        "            fv = line.split()\n",
        "            X.append(fv) \n",
        "            y.append(label) "
      ],
      "execution_count": 3,
      "outputs": []
    },
    {
      "cell_type": "code",
      "metadata": {
        "id": "PhmS9NxCRoTA"
      },
      "source": [
        "from sklearn.model_selection import train_test_split\n",
        "\n",
        "X_train, X_test, y_train, y_test = train_test_split(\n",
        "    X, y, test_size=0.2, random_state=11\n",
        ")"
      ],
      "execution_count": 4,
      "outputs": []
    },
    {
      "cell_type": "code",
      "metadata": {
        "id": "IoibfoUdRoMg"
      },
      "source": [
        "from sklearn.ensemble import BaggingClassifier\n",
        "from sklearn.tree import DecisionTreeClassifier"
      ],
      "execution_count": 5,
      "outputs": []
    },
    {
      "cell_type": "markdown",
      "metadata": {
        "id": "q6yU3AZUVk3b"
      },
      "source": [
        "**Bagging Classifier**\n",
        "\n",
        "Var olan bir eğitim setinden yeni eğitim setleri türeterek temel öğreniciyi yeniden eğitmeyi amaçlayan bir yöntemdir. Yerine koyarak örnekleme yapılır. Eğitim kümesi Bagging’de n adet örnekten oluşan eğitim setinden yine n örnekli bir eğitim seti yerine koyarak rastgele seçimle üretilir. Seçilen her örnek tekrar geri eğitim setine geri konulur. Bazı örnekler yeni eğitim kümesinde yer almazken bazıları birden fazla kez yer alırlar."
      ]
    },
    {
      "cell_type": "code",
      "metadata": {
        "id": "YTERP1OfRoFT"
      },
      "source": [
        "bag_clf=BaggingClassifier(\n",
        "    \n",
        "  DecisionTreeClassifier(random_state=42),\n",
        "  n_estimators=500,\n",
        "  max_samples=100,\n",
        "  bootstrap=True,\n",
        "  n_jobs=-1,\n",
        "  random_state=42\n",
        "\n",
        ")"
      ],
      "execution_count": 6,
      "outputs": []
    },
    {
      "cell_type": "code",
      "metadata": {
        "colab": {
          "base_uri": "https://localhost:8080/"
        },
        "id": "6RW1-SXbS0cF",
        "outputId": "b4a8bdf5-88f9-4e1e-92bd-944ae03aadf8"
      },
      "source": [
        "bag_clf.fit(X_train,y_train)"
      ],
      "execution_count": 7,
      "outputs": [
        {
          "output_type": "execute_result",
          "data": {
            "text/plain": [
              "BaggingClassifier(base_estimator=DecisionTreeClassifier(ccp_alpha=0.0,\n",
              "                                                        class_weight=None,\n",
              "                                                        criterion='gini',\n",
              "                                                        max_depth=None,\n",
              "                                                        max_features=None,\n",
              "                                                        max_leaf_nodes=None,\n",
              "                                                        min_impurity_decrease=0.0,\n",
              "                                                        min_impurity_split=None,\n",
              "                                                        min_samples_leaf=1,\n",
              "                                                        min_samples_split=2,\n",
              "                                                        min_weight_fraction_leaf=0.0,\n",
              "                                                        presort='deprecated',\n",
              "                                                        random_state=42,\n",
              "                                                        splitter='best'),\n",
              "                  bootstrap=True, bootstrap_features=False, max_features=1.0,\n",
              "                  max_samples=100, n_estimators=500, n_jobs=-1, oob_score=False,\n",
              "                  random_state=42, verbose=0, warm_start=False)"
            ]
          },
          "metadata": {
            "tags": []
          },
          "execution_count": 7
        }
      ]
    },
    {
      "cell_type": "code",
      "metadata": {
        "id": "QkAuR0Y0S9jh"
      },
      "source": [
        "from sklearn.metrics import accuracy_score"
      ],
      "execution_count": 8,
      "outputs": []
    },
    {
      "cell_type": "code",
      "metadata": {
        "id": "_r-aafUiS-EO"
      },
      "source": [
        "y_pred=bag_clf.predict(X_test)"
      ],
      "execution_count": 9,
      "outputs": []
    },
    {
      "cell_type": "code",
      "metadata": {
        "id": "J3c9BUy4TAAb"
      },
      "source": [
        "accuracy=accuracy_score(y_test,y_pred)"
      ],
      "execution_count": 10,
      "outputs": []
    },
    {
      "cell_type": "code",
      "metadata": {
        "colab": {
          "base_uri": "https://localhost:8080/"
        },
        "id": "2MLGmCSgTDnC",
        "outputId": "266766b8-dd50-4bf2-ddcb-ff5a804f1af9"
      },
      "source": [
        "\n",
        "print(\"Accuracy=>\",accuracy)"
      ],
      "execution_count": 11,
      "outputs": [
        {
          "output_type": "stream",
          "text": [
            "Accuracy=> 0.8\n"
          ],
          "name": "stdout"
        }
      ]
    },
    {
      "cell_type": "code",
      "metadata": {
        "colab": {
          "base_uri": "https://localhost:8080/"
        },
        "id": "uKbmXee-THgs",
        "outputId": "60342dd9-59fb-4aaa-f943-bd610974d511"
      },
      "source": [
        "\n",
        "from sklearn.metrics import confusion_matrix\n",
        "confusion_matrix(y_test, y_pred)"
      ],
      "execution_count": 12,
      "outputs": [
        {
          "output_type": "execute_result",
          "data": {
            "text/plain": [
              "array([[21,  5],\n",
              "       [ 3, 11]])"
            ]
          },
          "metadata": {
            "tags": []
          },
          "execution_count": 12
        }
      ]
    },
    {
      "cell_type": "code",
      "metadata": {
        "id": "pcgjT6OeTIDb"
      },
      "source": [
        "from sklearn.metrics import precision_score, recall_score,f1_score"
      ],
      "execution_count": 13,
      "outputs": []
    },
    {
      "cell_type": "code",
      "metadata": {
        "colab": {
          "base_uri": "https://localhost:8080/"
        },
        "id": "7Upx6ojITKZy",
        "outputId": "59e562db-0b84-46ae-ef1c-0b46baf1a157"
      },
      "source": [
        "precision=precision_score(y_test, y_pred)\n",
        "print(\"Precision=>\",precision)"
      ],
      "execution_count": 14,
      "outputs": [
        {
          "output_type": "stream",
          "text": [
            "Precision=> 0.6875\n"
          ],
          "name": "stdout"
        }
      ]
    },
    {
      "cell_type": "code",
      "metadata": {
        "colab": {
          "base_uri": "https://localhost:8080/"
        },
        "id": "-C_7tayETMtQ",
        "outputId": "43c86a15-ad2f-4f45-ce4e-34755b3dc7a8"
      },
      "source": [
        "recall=recall_score(y_test, y_pred)\n",
        "print(\"Recall=>\",recall)"
      ],
      "execution_count": 15,
      "outputs": [
        {
          "output_type": "stream",
          "text": [
            "Recall=> 0.7857142857142857\n"
          ],
          "name": "stdout"
        }
      ]
    },
    {
      "cell_type": "code",
      "metadata": {
        "colab": {
          "base_uri": "https://localhost:8080/"
        },
        "id": "G0p40Iy_TQSc",
        "outputId": "14d35c3a-09cc-466b-a276-aca65f67a3f7"
      },
      "source": [
        "f1score=f1_score(y_test, y_pred)\n",
        "print(\"F1_Score=>\",f1score)"
      ],
      "execution_count": 16,
      "outputs": [
        {
          "output_type": "stream",
          "text": [
            "F1_Score=> 0.7333333333333334\n"
          ],
          "name": "stdout"
        }
      ]
    }
  ]
}